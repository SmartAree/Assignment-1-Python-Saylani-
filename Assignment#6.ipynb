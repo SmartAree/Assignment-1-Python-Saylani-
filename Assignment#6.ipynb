{
 "cells": [
  {
   "cell_type": "markdown",
   "metadata": {},
   "source": [
    "# Object Oriented Programming:"
   ]
  },
  {
   "cell_type": "code",
   "execution_count": null,
   "metadata": {},
   "outputs": [],
   "source": [
    "An Object may contain data (variables) or code (methods).\n",
    "The creation of these objects is based on a programmer-defined \n",
    "blue-print also known as a Class."
   ]
  },
  {
   "cell_type": "markdown",
   "metadata": {},
   "source": [
    "# List down the Benefits of OOP?"
   ]
  },
  {
   "cell_type": "code",
   "execution_count": null,
   "metadata": {},
   "outputs": [],
   "source": [
    "1=> Reuse of code through inheritance\n",
    "2=>Flexibility through polymorphism\n",
    "3=>Effective problem solving\n",
    "4=>Modularity for easier troubleshooting\n",
    "5=>Better productivity\n",
    "6=>Design Benefits\n",
    "7=>Security\n",
    "8=>Data Redundancy\n",
    "\n"
   ]
  },
  {
   "cell_type": "markdown",
   "metadata": {},
   "source": [
    "# Differentiate between function and method?"
   ]
  },
  {
   "cell_type": "code",
   "execution_count": null,
   "metadata": {},
   "outputs": [],
   "source": [
    "FUCNTIONS: A function is a piece of code that is called by name. \n",
    "    It can be passed data to operate on (the parameters) \n",
    "    and can optionally return data (the return value).\n",
    "\n",
    "METHOD: A method is a piece of code that is called by a name \n",
    "that is associated with an object."
   ]
  },
  {
   "cell_type": "markdown",
   "metadata": {},
   "source": [
    "# Define the following terms: 1. Class 2. Object 3. Attribute 4. Behavior"
   ]
  },
  {
   "cell_type": "code",
   "execution_count": null,
   "metadata": {},
   "outputs": [],
   "source": [
    "CLASS: Its a template or blue print about the capability of what an object can do.\n",
    "    \n",
    "OBJECT: Is an instantiation of a class. When class is defined, only the description for the object is defined.\n",
    "    Therefore, no memory or storage is allocated.\n",
    "    \n",
    "ATTRIBUTE: Are the properties of an object.\n",
    "    \n",
    "BEHAVIOR: Behavior means action or work or task or operation that the object does. \n",
    "    for example parrot is an object\n",
    "    name, age, color are attributes\n",
    "    singing, dancing are behavior"
   ]
  },
  {
   "cell_type": "markdown",
   "metadata": {},
   "source": [
    "# Write a code in python in which create a class named it Car which have 5 attributes such like (model, color and name etc.) and 3 methods. And create 5 object instance from that class."
   ]
  },
  {
   "cell_type": "code",
   "execution_count": 18,
   "metadata": {},
   "outputs": [
    {
     "name": "stdout",
     "output_type": "stream",
     "text": [
      "aulto\n",
      "660cc\n",
      "red\n",
      "2019\n",
      "160 km/h Modified speed\n",
      "\n",
      "\n",
      "crolla\n",
      "660cc\n",
      "0\n",
      "2015\n",
      "black Modified color\n",
      "\n",
      "\n",
      "civic\n",
      "green\n",
      "0\n",
      "2013\n",
      "450yht Modified Model\n",
      "\n",
      "\n",
      "cultus\n",
      "3460rec\n",
      "grey\n",
      "0\n",
      "2000\n",
      "\n",
      "\n",
      "prado\n",
      "640fgc\n",
      "white\n",
      "0\n",
      "2018\n",
      "\n",
      "\n"
     ]
    }
   ],
   "source": [
    "class Car():\n",
    "    def __init__(self, name, model, color, speed, year):\n",
    "        self.name = name\n",
    "        self.model = model\n",
    "        self.color = color\n",
    "        self.speed = 0\n",
    "        self.year = year\n",
    "        \n",
    "    def updateSpeed(self, newSpeed):\n",
    "        self.speed = newSpeed\n",
    "        \n",
    "    def updateColor(self, newColor):\n",
    "        self.color = newColor\n",
    "        \n",
    "    def updateModel(self, newModel):\n",
    "        self.model = newModel\n",
    "        \n",
    "        \n",
    "        \n",
    "mycar1 = Car(\"aulto\", \"660cc\",\"red\", \"45 km/h\", \"2019\")\n",
    "print(mycar1.name)\n",
    "print(mycar1.model)\n",
    "print(mycar1.color)\n",
    "#print(mycar1.speed)\n",
    "print(mycar1.year)\n",
    "mycar1.updateSpeed(\"160 km/h\")\n",
    "print(mycar1.speed, \"Modified speed\")\n",
    "print(\"\\n\")\n",
    "\n",
    "mycar2 = Car(\"crolla\", \"660cc\",\"blue\",\"50 km/h\", \"2015\")\n",
    "print(mycar2.name)\n",
    "print(mycar2.model)\n",
    "#print(mycar2.color)\n",
    "print(mycar2.speed)\n",
    "print(mycar2.year)\n",
    "mycar1.updateColor(\"black\")\n",
    "print(mycar1.color, \"Modified color\")\n",
    "print(\"\\n\")\n",
    "\n",
    "mycar3 = Car(\"civic\", \"660ced\",\"green\", \"120 km/h\", \"2013\")\n",
    "print(mycar3.name)\n",
    "#print(mycar3.model)\n",
    "print(mycar3.color)\n",
    "print(mycar3.speed)\n",
    "print(mycar3.year)\n",
    "mycar1.updateModel(\"450yht\")\n",
    "print(mycar1.model, \"Modified Model\")\n",
    "print(\"\\n\")\n",
    "\n",
    "mycar4 = Car(\"cultus\", \"3460rec\",\"grey\",\"200 km/h\",\"2000\")\n",
    "print(mycar4.name)\n",
    "print(mycar4.model)\n",
    "print(mycar4.color)\n",
    "print(mycar4.speed)\n",
    "print(mycar4.year)\n",
    "print(\"\\n\")\n",
    "\n",
    "mycar5 = Car(\"prado\", \"640fgc\",\"white\", \"78 km/h\", \"2018\")\n",
    "print(mycar5.name)\n",
    "print(mycar5.model)\n",
    "print(mycar5.color)\n",
    "print(mycar5.speed)\n",
    "print(mycar5.year)\n",
    "print(\"\\n\")"
   ]
  },
  {
   "cell_type": "code",
   "execution_count": null,
   "metadata": {},
   "outputs": [],
   "source": []
  },
  {
   "cell_type": "code",
   "execution_count": null,
   "metadata": {},
   "outputs": [],
   "source": []
  }
 ],
 "metadata": {
  "kernelspec": {
   "display_name": "Python 3",
   "language": "python",
   "name": "python3"
  },
  "language_info": {
   "codemirror_mode": {
    "name": "ipython",
    "version": 3
   },
   "file_extension": ".py",
   "mimetype": "text/x-python",
   "name": "python",
   "nbconvert_exporter": "python",
   "pygments_lexer": "ipython3",
   "version": "3.7.4"
  }
 },
 "nbformat": 4,
 "nbformat_minor": 2
}
