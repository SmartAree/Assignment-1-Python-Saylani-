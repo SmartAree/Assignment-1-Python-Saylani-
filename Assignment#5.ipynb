{
 "cells": [
  {
   "cell_type": "markdown",
   "metadata": {},
   "source": [
    "# 1: Write a Python function to calculate the factorial of a number (a non-negative integer). The function accepts the number as an argument."
   ]
  },
  {
   "cell_type": "code",
   "execution_count": 2,
   "metadata": {},
   "outputs": [
    {
     "name": "stdout",
     "output_type": "stream",
     "text": [
      "Input a number to compute the factiorial : 4\n",
      "24\n"
     ]
    }
   ],
   "source": [
    "def factorialNumber(num):\n",
    "    if num == 0:\n",
    "        return 1\n",
    "    else:\n",
    "        return num * factorialNumber(num-1)\n",
    "    \n",
    "num = int(input(\"Input a number to compute the factiorial : \"))\n",
    "\n",
    "print(factorialNumber(num))"
   ]
  },
  {
   "cell_type": "markdown",
   "metadata": {},
   "source": [
    "# 2: Write a Python function that accepts a string and calculate the number of upper case letters and lower case letters."
   ]
  },
  {
   "cell_type": "code",
   "execution_count": 3,
   "metadata": {},
   "outputs": [
    {
     "name": "stdout",
     "output_type": "stream",
     "text": [
      "Original String :  The Saylani Mass IT Training\n",
      "No. of Upper case characters :  6\n",
      "No. of Lower case Characters :  18\n"
     ]
    }
   ],
   "source": [
    "def stringTest(L):\n",
    "    letters = {\"UPPER_CASE\":0, \"LOWER_CASE\":0}\n",
    "    for i in L:\n",
    "        if i.isupper():\n",
    "            letters[\"UPPER_CASE\"]+=1\n",
    "        elif i.islower():\n",
    "            letters[\"LOWER_CASE\"]+=1\n",
    "        else:\n",
    "            pass\n",
    "    print (\"Original String : \", L)\n",
    "    print (\"No. of Upper case characters : \", letters[\"UPPER_CASE\"])\n",
    "    print (\"No. of Lower case Characters : \", letters[\"LOWER_CASE\"])\n",
    "\n",
    "stringTest('The Saylani Mass IT Training')"
   ]
  },
  {
   "cell_type": "markdown",
   "metadata": {},
   "source": [
    "# 3: Write a Python function to print the even numbers from a given list."
   ]
  },
  {
   "cell_type": "code",
   "execution_count": 4,
   "metadata": {},
   "outputs": [
    {
     "name": "stdout",
     "output_type": "stream",
     "text": [
      "[2, 4, 6, 8]\n"
     ]
    }
   ],
   "source": [
    "def evenNum(L):\n",
    "    Enum = []\n",
    "    for n in L:\n",
    "        if n % 2 == 0:\n",
    "            Enum.append(n)\n",
    "    return Enum\n",
    "\n",
    "\n",
    "print(evenNum([1, 2, 3, 4, 5, 6, 7, 8, 9]))"
   ]
  },
  {
   "cell_type": "markdown",
   "metadata": {},
   "source": [
    "# 4: Write a Python function that checks whether a passed string is palindrome or not. Note: A palindrome is a word, phrase, or sequence that reads the same backward as forward, e.g., madam"
   ]
  },
  {
   "cell_type": "code",
   "execution_count": 5,
   "metadata": {},
   "outputs": [
    {
     "name": "stdout",
     "output_type": "stream",
     "text": [
      "True\n"
     ]
    }
   ],
   "source": [
    "def Palindrome(st):\n",
    "    left = 0\n",
    "    right = len(st) - 1\n",
    "    \n",
    "    while right >= left:\n",
    "        if not st[left] == st[right]:\n",
    "            return False\n",
    "        left += 1\n",
    "        right -= 1\n",
    "        return True\n",
    "\n",
    "print(Palindrome('maham')) "
   ]
  },
  {
   "cell_type": "markdown",
   "metadata": {},
   "source": [
    "# 5: Write a Python function that takes a number as a parameter and check the number is prime or not."
   ]
  },
  {
   "cell_type": "code",
   "execution_count": 6,
   "metadata": {},
   "outputs": [
    {
     "name": "stdout",
     "output_type": "stream",
     "text": [
      "True\n"
     ]
    }
   ],
   "source": [
    "def primeTest(num):\n",
    "    if (num == 1):\n",
    "        return False\n",
    "    elif (num == 2):\n",
    "        return True;\n",
    "    else:\n",
    "        for x in range(2,num):\n",
    "            if(num % x == 0):\n",
    "                return False\n",
    "        return True  \n",
    "    \n",
    "print(primeTest(2))"
   ]
  },
  {
   "cell_type": "markdown",
   "metadata": {},
   "source": [
    "# 6: Suppose a customer is shopping in a market and you need to print all the items which user bought from market. Write a function which accepts the multiple arguments of user shopping list and print all the items which user bought from market.                                                                                               (Hint: Arbitrary Argument concept can make this task ease)"
   ]
  },
  {
   "cell_type": "code",
   "execution_count": null,
   "metadata": {},
   "outputs": [
    {
     "name": "stdout",
     "output_type": "stream",
     "text": [
      "Shopping Basket Options: \n",
      " 1: Add Item  2: Remove item  3: View Basket  0: Exit\n",
      "Enter an Option: 1\n",
      "Enter an Item: apples\n",
      "Enter the quantity: 4\n",
      "\n",
      "\n",
      "Enter an option: 1\n",
      "Enter an Item: bananas\n",
      "Enter the quantity: 6\n",
      "\n",
      "\n",
      "Enter an option: 1\n",
      "Enter an Item: chicken\n",
      "Enter the quantity: 2kg\n",
      "\n",
      "\n",
      "Enter an option: 3\n",
      "apples : 4\n",
      "bananas : 6\n",
      "chicken : 2kg\n"
     ]
    }
   ],
   "source": [
    "shopping_basket = {} #Empty Dictionary\n",
    "print (\"Shopping Basket Options: \\n 1: Add Item  2: Remove item  3: View Basket  0: Exit\")\n",
    "\n",
    "option = int (input(\"Enter an Option: \"))\n",
    "\n",
    "while option !=0:\n",
    "    if option == 1:\n",
    "        item = input(\"Enter an Item: \")\n",
    "        qnty = input(\"Enter the quantity: \")\n",
    "        shopping_basket[item] = qnty\n",
    "    elif option == 2:\n",
    "        item = input(\"Enter an item: \")\n",
    "        del(shopping_basket[item])\n",
    "       \n",
    "    elif option == 3:\n",
    "        for item in shopping_basket:\n",
    "            print(item,\":\",shopping_basket[item])\n",
    "           \n",
    "    elif option != 0:\n",
    "        print(\"You did not enter a valid number\")\n",
    "       \n",
    "    option = int(input(\"\\n\\nEnter an option: \"))\n",
    "    \n",
    "else:\n",
    "    print(\"Shopping basket program closed kkkkk\")\n",
    "    "
   ]
  }
 ],
 "metadata": {
  "kernelspec": {
   "display_name": "Python 3",
   "language": "python",
   "name": "python3"
  }
 },
 "nbformat": 4,
 "nbformat_minor": 2
}
