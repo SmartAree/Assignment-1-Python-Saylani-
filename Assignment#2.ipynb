{
 "cells": [
  {
   "cell_type": "markdown",
   "metadata": {},
   "source": [
    "# 1: Write a program which takes 5 inputs from user for different subject’s marks, total it and generate mark sheet using grades ?"
   ]
  },
  {
   "cell_type": "code",
   "execution_count": 6,
   "metadata": {},
   "outputs": [
    {
     "name": "stdout",
     "output_type": "stream",
     "text": [
      "Enter your Marks obtained in English: 90\n",
      "Enter your Marks obtained in Math: 98\n",
      "Enter your Marks obtained in Chemistry: 77\n",
      "Enter your Marks obtained in Physics: 69\n",
      "Enter your Marks obtained in Urdu: 58\n"
     ]
    }
   ],
   "source": [
    "English = int(input(\"Enter your Marks obtained in English: \"))\n",
    "Math = int(input(\"Enter your Marks obtained in Math: \"))\n",
    "Chemistry = int(input(\"Enter your Marks obtained in Chemistry: \"))\n",
    "Physics = int(input(\"Enter your Marks obtained in Physics: \"))\n",
    "Urdu = int(input(\"Enter your Marks obtained in Urdu: \"))"
   ]
  },
  {
   "cell_type": "code",
   "execution_count": 7,
   "metadata": {},
   "outputs": [],
   "source": [
    "total = 500;\n",
    "obtained_Marks = English + Math + Chemistry + Physics + Urdu\n",
    "grade = \"\";"
   ]
  },
  {
   "cell_type": "code",
   "execution_count": 8,
   "metadata": {},
   "outputs": [],
   "source": [
    "percentage = obtained_Marks/total*100"
   ]
  },
  {
   "cell_type": "code",
   "execution_count": 9,
   "metadata": {},
   "outputs": [],
   "source": [
    "if (percentage >= 90 and percentage <= 100):\n",
    "    grade = \"A+\"\n",
    "elif (percentage >= 80 and percentage <= 90):\n",
    "    grade = \"A\"\n",
    "elif (percentage >= 70 and percentage <= 80):\n",
    "    grade = \"B\"\n",
    "elif (percentage >= 60 and percentage <= 70):\n",
    "    grade = \"C\"\n",
    "else:\n",
    "    grade = \"Fail\""
   ]
  },
  {
   "cell_type": "code",
   "execution_count": 10,
   "metadata": {},
   "outputs": [
    {
     "name": "stdout",
     "output_type": "stream",
     "text": [
      "Grade: B\n",
      "Percentage: 78.4\n",
      "obtained_marks: 392\n"
     ]
    }
   ],
   "source": [
    "print(\"Grade: \" +grade)\n",
    "print(\"Percentage: \" +str(percentage))\n",
    "print(\"obtained_marks: \" +str(obtained_Marks))"
   ]
  },
  {
   "cell_type": "markdown",
   "metadata": {},
   "source": [
    "# 2. Write a program which take input from user and identify that the given number is even or odd?"
   ]
  },
  {
   "cell_type": "code",
   "execution_count": 1,
   "metadata": {},
   "outputs": [
    {
     "name": "stdout",
     "output_type": "stream",
     "text": [
      "Enter any number: 6\n"
     ]
    }
   ],
   "source": [
    "Number = int(input(\"Enter any number: \"))"
   ]
  },
  {
   "cell_type": "code",
   "execution_count": 2,
   "metadata": {},
   "outputs": [],
   "source": [
    "Mod = Number % 2;"
   ]
  },
  {
   "cell_type": "code",
   "execution_count": 4,
   "metadata": {},
   "outputs": [
    {
     "name": "stdout",
     "output_type": "stream",
     "text": [
      "It is a even number\n"
     ]
    }
   ],
   "source": [
    "if (Mod > 0):\n",
    "    print(\"It is an odd number\")\n",
    "else:\n",
    "    print(\"It is a even number\")"
   ]
  },
  {
   "cell_type": "markdown",
   "metadata": {},
   "source": [
    "# 3. Write a program which print the length of the list?"
   ]
  },
  {
   "cell_type": "code",
   "execution_count": 13,
   "metadata": {},
   "outputs": [
    {
     "name": "stdout",
     "output_type": "stream",
     "text": [
      "7\n"
     ]
    }
   ],
   "source": [
    "Arr = [1, \"Areeba\", True, \"Farooq\", 55, False, 890]\n",
    "print(len(Arr))"
   ]
  },
  {
   "cell_type": "markdown",
   "metadata": {},
   "source": [
    "# 4. Write a Python program to sum all the numeric items in a list? "
   ]
  },
  {
   "cell_type": "code",
   "execution_count": 15,
   "metadata": {},
   "outputs": [
    {
     "name": "stdout",
     "output_type": "stream",
     "text": [
      "Sum of all given elements in items 27\n"
     ]
    }
   ],
   "source": [
    "Items = [2, 5, 9, 7, 4]\n",
    "total = sum(Items)\n",
    "print(\"Sum of all given elements in items\", total)"
   ]
  },
  {
   "cell_type": "markdown",
   "metadata": {},
   "source": [
    "# 5. Write a Python program to get the largest number from a numeric list."
   ]
  },
  {
   "cell_type": "code",
   "execution_count": 16,
   "metadata": {},
   "outputs": [
    {
     "name": "stdout",
     "output_type": "stream",
     "text": [
      "Largest element is:  99\n"
     ]
    }
   ],
   "source": [
    "list1 = [10, 20, 4, 45, 99]\n",
    "list1.sort()\n",
    "\n",
    "print(\"Largest element is: \", list1[-1]) "
   ]
  },
  {
   "cell_type": "markdown",
   "metadata": {},
   "source": [
    "# 6. Take a list, say for example this one: a = [1, 1, 2, 3, 5, 8, 13, 21, 34, 55, 89] and write a program that prints out all the elements of the list that are less than 5."
   ]
  },
  {
   "cell_type": "code",
   "execution_count": 25,
   "metadata": {},
   "outputs": [
    {
     "name": "stdout",
     "output_type": "stream",
     "text": [
      "1\n",
      "1\n",
      "2\n",
      "3\n"
     ]
    }
   ],
   "source": [
    "a = [1, 1, 2, 3, 5, 8, 13, 21, 34, 55, 89]\n",
    "\n",
    "for i in a:\n",
    "    if i < 5:\n",
    "        print(i)"
   ]
  },
  {
   "cell_type": "code",
   "execution_count": null,
   "metadata": {},
   "outputs": [],
   "source": []
  }
 ],
 "metadata": {
  "kernelspec": {
   "display_name": "Python 3",
   "language": "python",
   "name": "python3"
  },
  "language_info": {
   "codemirror_mode": {
    "name": "ipython",
    "version": 3
   },
   "file_extension": ".py",
   "mimetype": "text/x-python",
   "name": "python",
   "nbconvert_exporter": "python",
   "pygments_lexer": "ipython3",
   "version": "3.7.4"
  }
 },
 "nbformat": 4,
 "nbformat_minor": 2
}
