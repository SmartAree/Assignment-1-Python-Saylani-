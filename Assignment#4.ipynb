{
 "cells": [
  {
   "cell_type": "markdown",
   "metadata": {},
   "source": [
    "# 1: Use a dictionary to store information about a person you know. Store their first name, last name, age,and the city in which they live. You should have keys such as first_name, last_name, age, and city. Print each piece of information stored in your dictionary. Add a new key value pair about qualification then update the qualification value to high academic level then delete it."
   ]
  },
  {
   "cell_type": "code",
   "execution_count": 1,
   "metadata": {},
   "outputs": [
    {
     "data": {
      "text/plain": [
       "{'f_name': 'Areeba', 'l_name': 'Farooq', 'age': 21, 'city': 'Karachi'}"
      ]
     },
     "execution_count": 1,
     "metadata": {},
     "output_type": "execute_result"
    }
   ],
   "source": [
    "dict1 = {\n",
    "    \"f_name\" : \"Areeba\",\n",
    "    \"l_name\" : \"Farooq\",\n",
    "    \"age\" : 21,\n",
    "    \"city\" : \"Karachi\"\n",
    "}\n",
    "dict1"
   ]
  },
  {
   "cell_type": "code",
   "execution_count": 2,
   "metadata": {},
   "outputs": [
    {
     "name": "stdout",
     "output_type": "stream",
     "text": [
      "Areeba\n",
      "Farooq\n",
      "21\n",
      "Karachi\n"
     ]
    }
   ],
   "source": [
    "print(dict1[\"f_name\"])\n",
    "print(dict1[\"l_name\"])\n",
    "print(dict1[\"age\"])\n",
    "print(dict1[\"city\"])"
   ]
  },
  {
   "cell_type": "code",
   "execution_count": 3,
   "metadata": {},
   "outputs": [
    {
     "name": "stdout",
     "output_type": "stream",
     "text": [
      "{'f_name': 'Areeba', 'l_name': 'Farooq', 'age': 21, 'city': 'Karachi', 'qualification': 'Developer'}\n"
     ]
    }
   ],
   "source": [
    "dict1[\"qualification\"] = \"Developer\"\n",
    "print(dict1)"
   ]
  },
  {
   "cell_type": "code",
   "execution_count": 4,
   "metadata": {},
   "outputs": [
    {
     "data": {
      "text/plain": [
       "{'f_name': 'Areeba', 'l_name': 'Farooq', 'age': 21, 'city': 'Karachi'}"
      ]
     },
     "execution_count": 4,
     "metadata": {},
     "output_type": "execute_result"
    }
   ],
   "source": [
    "del dict1[\"qualification\"]\n",
    "dict1"
   ]
  },
  {
   "cell_type": "markdown",
   "metadata": {},
   "source": [
    "# 2: Make a dictionary called cities. Use the names of three cities as keys in your dictionary. Create a dictionary of information about each city and include the country that the city is in, its approximate population, and one fact about that city. The keys for each city’s dictionary should be something like country, population, and fact. Print the name of each city and all of the information you have stored about it."
   ]
  },
  {
   "cell_type": "code",
   "execution_count": 5,
   "metadata": {},
   "outputs": [
    {
     "data": {
      "text/plain": [
       "{'Karachi': {'Country': 'Pakistan',\n",
       "  'Population': 15741000,\n",
       "  'Fact': 'It is the Sixth largest city in the world by city population.'},\n",
       " 'Islamabad': {'Country': 'Pakistan',\n",
       "  'Population': 1095064,\n",
       "  'Fact': \"Islamabad is home to the Faisal Mosque, the world's fourth-largest mosque and the biggest religious building of its type in South Asia\"},\n",
       " 'Lahore': {'Country': 'Pakistan',\n",
       "  'Population': 12188000,\n",
       "  'Fact': 'This city is known for its rich culture and lively atmosphere'}}"
      ]
     },
     "execution_count": 5,
     "metadata": {},
     "output_type": "execute_result"
    }
   ],
   "source": [
    "cities = {\n",
    "    \"Karachi\" : {\n",
    "        \n",
    "        \"Country\" : \"Pakistan\",\n",
    "        \"Population\" : 15741000,\n",
    "        \"Fact\" : \"It is the Sixth largest city in the world by city population.\"\n",
    "},\n",
    "    \"Islamabad\" : {\n",
    "        \n",
    "        \"Country\" : \"Pakistan\",\n",
    "        \"Population\" : 1095064,\n",
    "        \"Fact\" : \"Islamabad is home to the Faisal Mosque, the world's fourth-largest mosque and the biggest religious building of its type in South Asia\"\n",
    "},\n",
    "    \"Lahore\" : {\n",
    "        \n",
    "        \"Country\" : \"Pakistan\",\n",
    "        \"Population\" : 12188000,\n",
    "        \"Fact\" : \"This city is known for its rich culture and lively atmosphere\"\n",
    "}\n",
    "          \n",
    "}\n",
    "cities"
   ]
  },
  {
   "cell_type": "code",
   "execution_count": 6,
   "metadata": {},
   "outputs": [
    {
     "name": "stdout",
     "output_type": "stream",
     "text": [
      "{'Country': 'Pakistan', 'Population': 15741000, 'Fact': 'It is the Sixth largest city in the world by city population.'}\n"
     ]
    }
   ],
   "source": [
    "print(cities[\"Karachi\"])"
   ]
  },
  {
   "cell_type": "code",
   "execution_count": 7,
   "metadata": {},
   "outputs": [
    {
     "name": "stdout",
     "output_type": "stream",
     "text": [
      "{'Country': 'Pakistan', 'Population': 1095064, 'Fact': \"Islamabad is home to the Faisal Mosque, the world's fourth-largest mosque and the biggest religious building of its type in South Asia\"}\n"
     ]
    }
   ],
   "source": [
    "print(cities[\"Islamabad\"])"
   ]
  },
  {
   "cell_type": "code",
   "execution_count": 8,
   "metadata": {},
   "outputs": [
    {
     "name": "stdout",
     "output_type": "stream",
     "text": [
      "{'Country': 'Pakistan', 'Population': 12188000, 'Fact': 'This city is known for its rich culture and lively atmosphere'}\n"
     ]
    }
   ],
   "source": [
    "print(cities[\"Lahore\"])"
   ]
  },
  {
   "cell_type": "markdown",
   "metadata": {},
   "source": [
    "# 3: A movie theater charges different ticket prices depending on a person’s age. If a person is under the age of 3, the ticket is free; if they are between 3 and 12, the ticket is dolor 10 and if they are over age 12, the ticket is dollor 15. Write a loop in which you ask users their age, and then tell them the cost of their movie ticket."
   ]
  },
  {
   "cell_type": "code",
   "execution_count": 4,
   "metadata": {},
   "outputs": [
    {
     "name": "stdout",
     "output_type": "stream",
     "text": [
      "Enter your age: 45\n"
     ]
    }
   ],
   "source": [
    "age = int(input(\"Enter your age: \"))"
   ]
  },
  {
   "cell_type": "code",
   "execution_count": 7,
   "metadata": {},
   "outputs": [
    {
     "name": "stdout",
     "output_type": "stream",
     "text": [
      "Ticket price is for $15 \n"
     ]
    }
   ],
   "source": [
    "if age <= 3:\n",
    "    print(\"Ticket is free\")\n",
    "elif age <= 12:\n",
    "    print(\"Ticket price is for $10 \")\n",
    "elif age >= 12:\n",
    "    print(\"Ticket price is for $15 \")\n",
    "else:\n",
    "    print(\"No Entry\")"
   ]
  },
  {
   "cell_type": "markdown",
   "metadata": {},
   "source": [
    "# 4: Write a function called favorite_book() that accepts one parameter, title. The function should print a message, such as One of my favorite books is Alice in Wonderland. Call the function, making sure to include a book title as an argument in the function call."
   ]
  },
  {
   "cell_type": "code",
   "execution_count": 9,
   "metadata": {},
   "outputs": [
    {
     "name": "stdout",
     "output_type": "stream",
     "text": [
      "One of my favorite book is  Alice in Wonderland.\n"
     ]
    }
   ],
   "source": [
    "def favorite_book(title):\n",
    "    print(\"One of my favorite book is \", title)\n",
    "\n",
    "\n",
    "favorite_book(\"Alice in Wonderland.\")"
   ]
  },
  {
   "cell_type": "markdown",
   "metadata": {},
   "source": [
    "# 5: Guess the number game  Write a program which randomly generate a number between 1 to 30 and ask the user in input field to, guess the correct number. Give three chances to user guess the number and also give hint to user if hidden number is greater or smaller than the number he given to input field."
   ]
  },
  {
   "cell_type": "code",
   "execution_count": 2,
   "metadata": {},
   "outputs": [
    {
     "data": {
      "text/plain": [
       "20"
      ]
     },
     "execution_count": 2,
     "metadata": {},
     "output_type": "execute_result"
    }
   ],
   "source": [
    "import random\n",
    "number = random.randint(1, 30)\n",
    "\n",
    "guess = 1\n",
    "game_over = False\n",
    "\n",
    "number"
   ]
  },
  {
   "cell_type": "code",
   "execution_count": 3,
   "metadata": {},
   "outputs": [
    {
     "name": "stdout",
     "output_type": "stream",
     "text": [
      "Guess any number between 1-30: 13\n",
      "Low guess\n",
      "Guess Again! : 55\n"
     ]
    }
   ],
   "source": [
    "guess_number = int(input('Guess any number between 1-30: '))\n",
    "\n",
    "while not game_over:\n",
    "    if guess_number == number:\n",
    "        print(\"You win, and you guess this number in \", guess, \"times\")\n",
    "        game_over = True\n",
    "    else:\n",
    "        if guess_number < number:\n",
    "            print(\"Low guess\")\n",
    "        else:\n",
    "            print(\"High guess\")\n",
    "        \n",
    "    guess += 1\n",
    "    guess_number = int(input('Guess Again! : '))"
   ]
  },
  {
   "cell_type": "code",
   "execution_count": null,
   "metadata": {},
   "outputs": [],
   "source": []
  },
  {
   "cell_type": "code",
   "execution_count": null,
   "metadata": {},
   "outputs": [],
   "source": []
  }
 ],
 "metadata": {
  "kernelspec": {
   "display_name": "Python 3",
   "language": "python",
   "name": "python3"
  },
  "language_info": {
   "codemirror_mode": {
    "name": "ipython",
    "version": 3
   },
   "file_extension": ".py",
   "mimetype": "text/x-python",
   "name": "python",
   "nbconvert_exporter": "python",
   "pygments_lexer": "ipython3",
   "version": "3.7.4"
  }
 },
 "nbformat": 4,
 "nbformat_minor": 2
}
